{
 "cells": [
  {
   "cell_type": "code",
   "execution_count": 9,
   "metadata": {},
   "outputs": [],
   "source": [
    "import pandas as pd"
   ]
  },
  {
   "cell_type": "code",
   "execution_count": 11,
   "metadata": {},
   "outputs": [],
   "source": [
    "# these are just dummy functions that don't really do anything\n",
    "class Model():\n",
    "    def __init__(self, name, output_dir):\n",
    "        self.name = name\n",
    "        self.output_dir = output_dir\n",
    "        \n",
    "    def train(self, data):\n",
    "        print('trained :)')\n",
    "        \n",
    "    def save(self):\n",
    "        with open(self.output_dir + self.name, 'w') as f:\n",
    "            f.write('pickled_model')\n",
    "            \n",
    "    def save_results(self):\n",
    "        with open(self.output_dir + self.name + ' results', 'w') as f:\n",
    "            f.write('results')\n",
    "            \n",
    "def complicated_preprocessing_1(df):\n",
    "    return df\n",
    "\n",
    "def complicated_preprocessing_2(df):\n",
    "    return df"
   ]
  },
  {
   "cell_type": "code",
   "execution_count": 12,
   "metadata": {},
   "outputs": [],
   "source": [
    "# directories to save stuff in:\n",
    "data_dir = \"./processed_data/\"\n",
    "output_dir = \"./outputs/\""
   ]
  },
  {
   "cell_type": "code",
   "execution_count": 13,
   "metadata": {},
   "outputs": [],
   "source": [
    "# read raw data\n",
    "df = pd.read_csv(\"sample.csv\")"
   ]
  },
  {
   "cell_type": "code",
   "execution_count": 14,
   "metadata": {},
   "outputs": [
    {
     "data": {
      "text/html": [
       "<div>\n",
       "<style scoped>\n",
       "    .dataframe tbody tr th:only-of-type {\n",
       "        vertical-align: middle;\n",
       "    }\n",
       "\n",
       "    .dataframe tbody tr th {\n",
       "        vertical-align: top;\n",
       "    }\n",
       "\n",
       "    .dataframe thead th {\n",
       "        text-align: right;\n",
       "    }\n",
       "</style>\n",
       "<table border=\"1\" class=\"dataframe\">\n",
       "  <thead>\n",
       "    <tr style=\"text-align: right;\">\n",
       "      <th></th>\n",
       "      <th>car</th>\n",
       "      <th>weight</th>\n",
       "      <th>efficiency</th>\n",
       "      <th>speed</th>\n",
       "    </tr>\n",
       "  </thead>\n",
       "  <tbody>\n",
       "    <tr>\n",
       "      <th>0</th>\n",
       "      <td>honda</td>\n",
       "      <td>1000</td>\n",
       "      <td>0.7</td>\n",
       "      <td>88</td>\n",
       "    </tr>\n",
       "    <tr>\n",
       "      <th>1</th>\n",
       "      <td>ford</td>\n",
       "      <td>1500</td>\n",
       "      <td>0.5</td>\n",
       "      <td>65</td>\n",
       "    </tr>\n",
       "    <tr>\n",
       "      <th>2</th>\n",
       "      <td>mazda</td>\n",
       "      <td>1250</td>\n",
       "      <td>0.6</td>\n",
       "      <td>80</td>\n",
       "    </tr>\n",
       "    <tr>\n",
       "      <th>3</th>\n",
       "      <td>lexus</td>\n",
       "      <td>1333</td>\n",
       "      <td>0.5</td>\n",
       "      <td>85</td>\n",
       "    </tr>\n",
       "    <tr>\n",
       "      <th>4</th>\n",
       "      <td>winnebago</td>\n",
       "      <td>1900</td>\n",
       "      <td>0.2</td>\n",
       "      <td>60</td>\n",
       "    </tr>\n",
       "    <tr>\n",
       "      <th>5</th>\n",
       "      <td>toyota</td>\n",
       "      <td>900</td>\n",
       "      <td>0.8</td>\n",
       "      <td>70</td>\n",
       "    </tr>\n",
       "    <tr>\n",
       "      <th>6</th>\n",
       "      <td>gm</td>\n",
       "      <td>1650</td>\n",
       "      <td>0.3</td>\n",
       "      <td>64</td>\n",
       "    </tr>\n",
       "    <tr>\n",
       "      <th>7</th>\n",
       "      <td>benz</td>\n",
       "      <td>1700</td>\n",
       "      <td>0.4</td>\n",
       "      <td>79</td>\n",
       "    </tr>\n",
       "  </tbody>\n",
       "</table>\n",
       "</div>"
      ],
      "text/plain": [
       "         car  weight  efficiency  speed\n",
       "0      honda    1000         0.7     88\n",
       "1       ford    1500         0.5     65\n",
       "2      mazda    1250         0.6     80\n",
       "3      lexus    1333         0.5     85\n",
       "4  winnebago    1900         0.2     60\n",
       "5     toyota     900         0.8     70\n",
       "6         gm    1650         0.3     64\n",
       "7       benz    1700         0.4     79"
      ]
     },
     "execution_count": 14,
     "metadata": {},
     "output_type": "execute_result"
    }
   ],
   "source": [
    "df"
   ]
  },
  {
   "cell_type": "code",
   "execution_count": 15,
   "metadata": {},
   "outputs": [],
   "source": [
    "# do some preprocessing to pass into our model\n",
    "df['weightXefficiency'] = df['weight']*df['efficiency']\n",
    "df = complicated_preprocessing_1(df)"
   ]
  },
  {
   "cell_type": "code",
   "execution_count": 16,
   "metadata": {},
   "outputs": [
    {
     "name": "stdout",
     "output_type": "stream",
     "text": [
      "trained :)\n"
     ]
    }
   ],
   "source": [
    "# create model and train it on our data\n",
    "model = Model('neural_net', output_dir)\n",
    "model.train(df)\n",
    "model.save()\n",
    "model.save_results()"
   ]
  },
  {
   "cell_type": "code",
   "execution_count": 17,
   "metadata": {},
   "outputs": [
    {
     "name": "stdout",
     "output_type": "stream",
     "text": [
      "trained :)\n"
     ]
    }
   ],
   "source": [
    "# now, what if you want to try different preprocessing methods?\n",
    "df = pd.read_csv(\"sample.csv\")\n",
    "df['speedXefficiency'] = df['speed']*df['efficiency']\n",
    "df = complicated_preprocessing_2(df)\n",
    "\n",
    "model = Model('neural_net_withspeedxefficiency_preprocessing2', output_dir)\n",
    "model.train(df)\n",
    "model.save()\n",
    "model.save_results()"
   ]
  },
  {
   "cell_type": "code",
   "execution_count": 18,
   "metadata": {},
   "outputs": [
    {
     "name": "stdout",
     "output_type": "stream",
     "text": [
      "trained :)\n"
     ]
    }
   ],
   "source": [
    "# now, what if you want to try different types of models?\n",
    "\n",
    "df = pd.read_csv(\"sample.csv\")\n",
    "df['speedXefficiency'] = df['speed']*df['efficiency']\n",
    "df = complicated_preprocessing_2(df)\n",
    "model = Model('random_forest', output_dir)\n",
    "model.train(df)\n",
    "model.save()\n",
    "model.save_results()"
   ]
  },
  {
   "cell_type": "code",
   "execution_count": 15,
   "metadata": {},
   "outputs": [
    {
     "name": "stdout",
     "output_type": "stream",
     "text": [
      "trained :)\n"
     ]
    }
   ],
   "source": [
    "# now, what if you want to try a different dataset?\n",
    "\n",
    "df = pd.read_csv(\"sample_2.csv\")\n",
    "df['speedXefficiency'] = df['speed']*df['efficiency']\n",
    "df = complicated_preprocessing_2(df)\n",
    "model = Model('random_forest_sample_2_preprocessingfxn2', output_dir)\n",
    "model.train(df)\n",
    "model.save()\n",
    "model.save_results()"
   ]
  },
  {
   "cell_type": "code",
   "execution_count": null,
   "metadata": {},
   "outputs": [],
   "source": [
    "# complexity grows fast! \n",
    "# even if you're not doing models and doing visualizations and data scraping, still useful to think about complexity\n",
    "# now how could we do this in a script?"
   ]
  }
 ],
 "metadata": {
  "kernelspec": {
   "display_name": "Python 3",
   "language": "python",
   "name": "python3"
  },
  "language_info": {
   "codemirror_mode": {
    "name": "ipython",
    "version": 3
   },
   "file_extension": ".py",
   "mimetype": "text/x-python",
   "name": "python",
   "nbconvert_exporter": "python",
   "pygments_lexer": "ipython3",
   "version": "3.8.5"
  }
 },
 "nbformat": 4,
 "nbformat_minor": 4
}
